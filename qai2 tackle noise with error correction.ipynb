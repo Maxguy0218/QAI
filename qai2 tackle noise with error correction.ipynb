{
 "cells": [
  {
   "cell_type": "code",
   "execution_count": 5,
   "id": "d7b3ba15",
   "metadata": {},
   "outputs": [
    {
     "name": "stdout",
     "output_type": "stream",
     "text": [
      "Measurement outcomes:\n",
      "{'011': 512, '010': 512}\n"
     ]
    },
    {
     "name": "stderr",
     "output_type": "stream",
     "text": [
      "C:\\Users\\EARENDEL ICARUS\\AppData\\Local\\Temp\\ipykernel_11012\\436013491.py:29: DeprecationWarning: Using a qobj for run() is deprecated as of qiskit-aer 0.9.0 and will be removed no sooner than 3 months from that release date. Transpiled circuits should now be passed directly using `backend.run(circuits, **run_options).\n",
      "  result = simulator.run(qobj).result()\n"
     ]
    }
   ],
   "source": [
    "from qiskit import QuantumCircuit, Aer, transpile, assemble\n",
    "from qiskit.visualization import plot_histogram\n",
    "# Define the three-qubit bit-flip code circuit\n",
    "def bit_flip_code():\n",
    "    # Create a quantum circuit with 3 qubits and 3 classical bits\n",
    "    qc = QuantumCircuit(3, 3)\n",
    "    # Step 1: Encoding (using 3 qubits to protect 1 logical qubit)\n",
    "    qc.h(0) # Apply Hadamard gate to qubit 0 (superposition)\n",
    "    qc.cx(0, 1) # Apply CNOT gate between qubit 0 and qubit 1\n",
    "    qc.cx(0, 2) # Apply CNOT gate between qubit 0 and qubit 2\n",
    "    # Step 2: Simulate an error (bit-flip error on qubit 1)\n",
    "    qc.x(1) # Apply X gate (bit-flip) to qubit 1\n",
    "    # Step 3: Error correction\n",
    "    qc.cx(0, 1) # Apply CNOT gate between qubit 0 and qubit 1\n",
    "    qc.cx(0, 2) # Apply CNOT gate between qubit 0 and qubit 2\n",
    "    qc.ccx(2, 1, 0) # Apply Toffoli gate to perform majority vote (error correction)\n",
    "    # Step 4: Measurement\n",
    "    qc.measure([0, 1, 2], [0, 1, 2]) # Measure all qubits and store the result in classical bits\n",
    "    return qc\n",
    "# Simulate the circuit and plot the results\n",
    "def simulate_circuit(circuit):\n",
    "    # Use the Aer simulator\n",
    "    simulator = Aer.get_backend('qasm_simulator')\n",
    "    # Transpile the circuit for the simulator\n",
    "    transpiled_circuit = transpile(circuit, simulator)\n",
    "    # Assemble the transpiled circuit for the simulator\n",
    "    qobj = assemble(transpiled_circuit)\n",
    "    # Execute the circuit on the simulator\n",
    "    result = simulator.run(qobj).result()\n",
    "    # Get the counts of the measurement outcomes\n",
    "    counts = result.get_counts(transpiled_circuit)\n",
    "    return counts\n",
    "if __name__ == \"__main__\":\n",
    "    # Create and run the circuit\n",
    "    circuit = bit_flip_code()\n",
    "    counts = simulate_circuit(circuit)\n",
    "    # Plot the measurement outcomes\n",
    "    print(\"Measurement outcomes:\")\n",
    "    print(counts)"
   ]
  },
  {
   "cell_type": "code",
   "execution_count": 6,
   "id": "95e2658e",
   "metadata": {},
   "outputs": [
    {
     "data": {
      "image/png": "[encoded data removed]",
      "text/plain": [
       "<Figure size 700x500 with 1 Axes>"
      ]
     },
     "execution_count": 6,
     "metadata": {},
     "output_type": "execute_result"
    }
   ],
   "source": [
    " plot_histogram(counts)"
   ]
  },
  {
   "cell_type": "code",
   "execution_count": null,
   "id": "38256160",
   "metadata": {},
   "outputs": [],
   "source": []
  }
 ],
 "metadata": {
  "kernelspec": {
   "display_name": "Python 3 (ipykernel)",
   "language": "python",
   "name": "python3"
  },
  "language_info": {
   "codemirror_mode": {
    "name": "ipython",
    "version": 3
   },
   "file_extension": ".py",
   "mimetype": "text/x-python",
   "name": "python",
   "nbconvert_exporter": "python",
   "pygments_lexer": "ipython3",
   "version": "3.9.13"
  }
 },
 "nbformat": 4,
 "nbformat_minor": 5
}
