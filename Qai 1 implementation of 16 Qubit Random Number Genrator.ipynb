{
 "cells": [
  {
   "cell_type": "code",
   "execution_count": 5,
   "id": "2fadbd48",
   "metadata": {},
   "outputs": [
    {
     "name": "stdout",
     "output_type": "stream",
     "text": [
      "Executing Job...\n",
      "\n",
      "RESULT:  {'1100100000011111': 1} \n",
      "\n",
      "Press any key to close\n",
      "5\n"
     ]
    },
    {
     "data": {
      "text/plain": [
       "'5'"
      ]
     },
     "execution_count": 5,
     "metadata": {},
     "output_type": "execute_result"
    }
   ],
   "source": [
    "from qiskit import QuantumRegister, ClassicalRegister, QuantumCircuit, execute, IBMQ\n",
    "IBMQ.enable_account('969683c2c5c60fd25438d398325b6b2282d193aa28eaed7f5dcdbcfa1579ffcf4c92a02212311bf93a7f457f797c300f3d426c4c9905299f7f8dd784239c4f60')\n",
    "provider = IBMQ.get_provider(hub='ibm-q')\n",
    "q = QuantumRegister(16,'q')\n",
    "c = ClassicalRegister(16,'c')\n",
    "circuit = QuantumCircuit(q,c)\n",
    "circuit.h(q) # Applies hadamard gate to all qubits\n",
    "circuit.measure(q,c) # Measures all qubits \n",
    "backend = provider.get_backend('ibmq_qasm_simulator')\n",
    "job = execute(circuit, backend, shots=1)\n",
    " \n",
    "print('Executing Job...\\n') \n",
    "result = job.result()\n",
    "counts = result.get_counts(circuit)\n",
    "print('RESULT: ',counts,'\\n')\n",
    "print('Press any key to close')\n",
    "input()"
   ]
  },
  {
   "cell_type": "code",
   "execution_count": null,
   "id": "48336c57",
   "metadata": {},
   "outputs": [],
   "source": []
  }
 ],
 "metadata": {
  "kernelspec": {
   "display_name": "Python 3 (ipykernel)",
   "language": "python",
   "name": "python3"
  },
  "language_info": {
   "codemirror_mode": {
    "name": "ipython",
    "version": 3
   },
   "file_extension": ".py",
   "mimetype": "text/x-python",
   "name": "python",
   "nbconvert_exporter": "python",
   "pygments_lexer": "ipython3",
   "version": "3.9.13"
  }
 },
 "nbformat": 4,
 "nbformat_minor": 5
}
