{
 "cells": [
  {
   "cell_type": "code",
   "execution_count": 8,
   "id": "301c2eea",
   "metadata": {},
   "outputs": [
    {
     "name": "stdout",
     "output_type": "stream",
     "text": [
      "     ┌───┐┌──────┐┌─┐            \n",
      "q_0: ┤ X ├┤0     ├┤M├────────────\n",
      "     └───┘│      │└╥┘┌─┐         \n",
      "q_1: ─────┤1     ├─╫─┤M├─────────\n",
      "     ┌───┐│      │ ║ └╥┘┌─┐      \n",
      "q_2: ┤ X ├┤2 qft ├─╫──╫─┤M├──────\n",
      "     └───┘│      │ ║  ║ └╥┘┌─┐   \n",
      "q_3: ─────┤3     ├─╫──╫──╫─┤M├───\n",
      "     ┌───┐│      │ ║  ║  ║ └╥┘┌─┐\n",
      "q_4: ┤ X ├┤4     ├─╫──╫──╫──╫─┤M├\n",
      "     └───┘└──────┘ ║  ║  ║  ║ └╥┘\n",
      "c: 5/══════════════╩══╩══╩══╩══╩═\n",
      "                   0  1  2  3  4 \n",
      "Job Status: job has successfully run\n",
      "\n",
      " QFT Output\n",
      "-------------\n",
      "{'11010': 36, '01111': 33, '10011': 27, '00000': 27, '01011': 35, '01100': 27, '11001': 33, '00110': 34, '01010': 29, '10001': 21, '01110': 23, '11011': 38, '10110': 31, '11111': 38, '10010': 43, '01000': 27, '10101': 27, '10000': 29, '00010': 37, '11110': 43, '11100': 32, '11101': 20, '10100': 31, '01101': 29, '00001': 27, '00101': 36, '01001': 26, '10111': 39, '11000': 25, '00111': 35, '00011': 31, '00100': 31}\n",
      "5\n",
      "     ┌───┐┌──────┐┌─────────┐┌─┐            \n",
      "q_0: ┤ X ├┤0     ├┤0        ├┤M├────────────\n",
      "     └───┘│      ││         │└╥┘┌─┐         \n",
      "q_1: ─────┤1     ├┤1        ├─╫─┤M├─────────\n",
      "     ┌───┐│      ││         │ ║ └╥┘┌─┐      \n",
      "q_2: ┤ X ├┤2 qft ├┤2 qft_dg ├─╫──╫─┤M├──────\n",
      "     └───┘│      ││         │ ║  ║ └╥┘┌─┐   \n",
      "q_3: ─────┤3     ├┤3        ├─╫──╫──╫─┤M├───\n",
      "     ┌───┐│      ││         │ ║  ║  ║ └╥┘┌─┐\n",
      "q_4: ┤ X ├┤4     ├┤4        ├─╫──╫──╫──╫─┤M├\n",
      "     └───┘└──────┘└─────────┘ ║  ║  ║  ║ └╥┘\n",
      "c: 5/═════════════════════════╩══╩══╩══╩══╩═\n",
      "                              0  1  2  3  4 \n",
      "Job Status: job has successfully run\n",
      "\n",
      " QFT Output\n",
      "-------------\n",
      "{'10101': 1000}\n"
     ]
    }
   ],
   "source": [
    "from qiskit import QuantumRegister, ClassicalRegister\n",
    "from qiskit import QuantumCircuit, execute,IBMQ\n",
    "from qiskit.tools.monitor import job_monitor\n",
    "from qiskit.circuit.library import QFT\n",
    "import numpy as np\n",
    "pi = np.pi\n",
    "IBMQ.enable_account('969683c2c5c60fd25438d398325b6b2282d193aa28eaed7f5dcdbcfa1579ffcf4c92a02212311bf93a7f457f797c300f3d426c4c9905299f7f8dd784239c4f60')\n",
    "provider = IBMQ.get_provider(hub='ibm-q')\n",
    "backend = provider.get_backend('ibmq_qasm_simulator')\n",
    "q = QuantumRegister(5,'q')\n",
    "c = ClassicalRegister(5,'c')\n",
    "circuit = QuantumCircuit(q,c)\n",
    "circuit.x(q[4])\n",
    "circuit.x(q[2])\n",
    "circuit.x(q[0])\n",
    "circuit &= QFT(num_qubits=5, approximation_degree=0, do_swaps=True, inverse=False, insert_barriers=False, name='qft')\n",
    "circuit.measure(q,c)\n",
    "circuit.draw(output='mpl', filename='qft1.png')\n",
    "print(circuit)\n",
    "job = execute(circuit, backend, shots=1000)\n",
    "job_monitor(job)\n",
    "counts = job.result().get_counts()\n",
    "print(\"\\n QFT Output\")\n",
    "print(\"-------------\")\n",
    "print(counts)\n",
    "input()\n",
    "q = QuantumRegister(5,'q')\n",
    "c = ClassicalRegister(5,'c')\n",
    "circuit = QuantumCircuit(q,c)\n",
    "circuit.x(q[4])\n",
    "circuit.x(q[2])\n",
    "circuit.x(q[0])\n",
    "circuit &= QFT(num_qubits=5, approximation_degree=0, do_swaps=True, inverse=False, insert_barriers=False, name='qft')\n",
    "circuit &= QFT(num_qubits=5, approximation_degree=0, do_swaps=True, inverse=True, insert_barriers=False, name='qft')\n",
    "circuit.measure(q,c)\n",
    "circuit.draw(output='mpl', filename='qft2.png')\n",
    "print(circuit)\n",
    "job = execute(circuit, backend, shots=1000)\n",
    "job_monitor(job)\n",
    "counts = job.result().get_counts()\n",
    "print(\"\\n QFT Output\")\n",
    "print(\"-------------\")\n",
    "print(counts)"
   ]
  },
  {
   "cell_type": "code",
   "execution_count": null,
   "id": "aebd503f",
   "metadata": {},
   "outputs": [],
   "source": []
  }
 ],
 "metadata": {
  "kernelspec": {
   "display_name": "Python 3 (ipykernel)",
   "language": "python",
   "name": "python3"
  },
  "language_info": {
   "codemirror_mode": {
    "name": "ipython",
    "version": 3
   },
   "file_extension": ".py",
   "mimetype": "text/x-python",
   "name": "python",
   "nbconvert_exporter": "python",
   "pygments_lexer": "ipython3",
   "version": "3.9.13"
  }
 },
 "nbformat": 4,
 "nbformat_minor": 5
}
